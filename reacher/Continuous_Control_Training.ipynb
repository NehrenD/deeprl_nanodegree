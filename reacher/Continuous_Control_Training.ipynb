{
 "cells": [
  {
   "cell_type": "markdown",
   "metadata": {},
   "source": [
    "# Training Code for the Continuous Control Project\n",
    "\n",
    "By: Daniel Nehren\n",
    "Date: 5/28/2020"
   ]
  },
  {
   "cell_type": "code",
   "execution_count": 1,
   "metadata": {},
   "outputs": [
    {
     "data": {
      "text/html": [
       "<style>.container { width:100% !important; }</style>"
      ],
      "text/plain": [
       "<IPython.core.display.HTML object>"
      ]
     },
     "metadata": {},
     "output_type": "display_data"
    }
   ],
   "source": [
    "%matplotlib inline\n",
    "\n",
    "from unityagents import UnityEnvironment\n",
    "import numpy as np\n",
    "import random\n",
    "import sys\n",
    "from collections import deque\n",
    "\n",
    "import ptan\n",
    "import torch\n",
    "import torch.optim as optim\n",
    "import torch.nn.functional as F\n",
    "\n",
    "from tensorboardX import SummaryWriter\n",
    "\n",
    "import matplotlib.pyplot as plt\n",
    "\n",
    "from IPython.core.display import display, HTML\n",
    "display(HTML(\"<style>.container { width:100% !important; }</style>\"))"
   ]
  },
  {
   "cell_type": "code",
   "execution_count": 2,
   "metadata": {},
   "outputs": [],
   "source": [
    "sys.path.append('./')"
   ]
  },
  {
   "cell_type": "code",
   "execution_count": 3,
   "metadata": {},
   "outputs": [],
   "source": [
    "from ddpg_model_ptan import AgentDDPG, DDPGActor,DDPGCritic,Config\n",
    "from utils.experience_unity import UnityExperienceSourceFirstLast"
   ]
  },
  {
   "cell_type": "markdown",
   "metadata": {},
   "source": [
    "### Setup"
   ]
  },
  {
   "cell_type": "code",
   "execution_count": 4,
   "metadata": {},
   "outputs": [
    {
     "name": "stderr",
     "output_type": "stream",
     "text": [
      "INFO:unityagents:\n",
      "'Academy' started successfully!\n",
      "Unity Academy name: Academy\n",
      "        Number of Brains: 1\n",
      "        Number of External Brains : 1\n",
      "        Lesson number : 0\n",
      "        Reset Parameters :\n",
      "\t\tgoal_speed -> 1.0\n",
      "\t\tgoal_size -> 5.0\n",
      "Unity brain name: ReacherBrain\n",
      "        Number of Visual Observations (per agent): 0\n",
      "        Vector Observation space type: continuous\n",
      "        Vector Observation space size (per agent): 33\n",
      "        Number of stacked Vector Observation: 1\n",
      "        Vector Action space type: continuous\n",
      "        Vector Action space size (per agent): 4\n",
      "        Vector Action descriptions: , , , \n"
     ]
    }
   ],
   "source": [
    "# Start Environment\n",
    "env = UnityEnvironment(file_name='Reacher-2.app',no_graphics=True)"
   ]
  },
  {
   "cell_type": "code",
   "execution_count": 5,
   "metadata": {},
   "outputs": [],
   "source": [
    "brain_name = env.brain_names[0]\n",
    "brain = env.brains[brain_name]\n",
    "state_size = brain.vector_observation_space_size\n",
    "action_size = brain.vector_action_space_size"
   ]
  },
  {
   "cell_type": "code",
   "execution_count": 24,
   "metadata": {},
   "outputs": [],
   "source": [
    "# Start Tensor board\n",
    "writer = SummaryWriter(comment=\"-reacherddpg_ptan\")"
   ]
  },
  {
   "cell_type": "code",
   "execution_count": 7,
   "metadata": {},
   "outputs": [],
   "source": [
    "#Get the config for all hyperparameters\n",
    "config = Config()"
   ]
  },
  {
   "cell_type": "code",
   "execution_count": 9,
   "metadata": {},
   "outputs": [],
   "source": [
    "#Create the Actor and Critic networks\n",
    "\n",
    "actor_net = DDPGActor(state_size,action_size,config.ACTOR_FC1_UNITS,config.ACTOR_FC2_UNITS)\n",
    "critic_net = DDPGCritic(state_size,action_size,config.CRITIC_FC1_UNITS,config.CRITIC_FC2_UNITS)\n",
    "\n",
    "act_opt = optim.Adam(actor_net.parameters(), lr=config.LR_ACTOR)\n",
    "crt_opt = optim.Adam(critic_net.parameters(), lr=config.LR_CRITIC)"
   ]
  },
  {
   "cell_type": "code",
   "execution_count": 10,
   "metadata": {},
   "outputs": [],
   "source": [
    "#Using PTAN Utilitiy for the Target networs\n",
    "actor_target = ptan.agent.TargetNet(actor_net)\n",
    "critic_target = ptan.agent.TargetNet(critic_net)"
   ]
  },
  {
   "cell_type": "code",
   "execution_count": 12,
   "metadata": {},
   "outputs": [],
   "source": [
    "#Utility Function\n",
    "\n",
    "def unpack_batch(batch, device=\"cpu\"):\n",
    "    \"\"\" Utility Function to unpack a batch of expeirences in to tensors for training\"\"\"\n",
    "    states, actions, rewards, dones, last_states = [], [], [], [], []\n",
    "    for exp in batch:\n",
    "        states.append(exp.state)\n",
    "        actions.append(exp.action)\n",
    "        rewards.append(exp.reward)\n",
    "        dones.append(exp.last_state is None)\n",
    "        if exp.last_state is None:\n",
    "            last_states.append(exp.state)\n",
    "        else:\n",
    "            last_states.append(exp.last_state)\n",
    "    states_v = ptan.agent.float32_preprocessor(states).to(device)\n",
    "    actions_v = ptan.agent.float32_preprocessor(actions).to(device)\n",
    "    rewards_v = ptan.agent.float32_preprocessor(rewards).to(device)\n",
    "    last_states_v = ptan.agent.float32_preprocessor(last_states).to(device)\n",
    "    dones_t = torch.BoolTensor(dones).to(device)\n",
    "    return states_v, actions_v, rewards_v, dones_t, last_states_v\n",
    "\n",
    "def test_net(net, env, steps=100, device=\"cpu\"):\n",
    "    \"\"\"Funtion to test the current environment just using the actor net\"\"\"\n",
    "    \n",
    "    env_info = env.reset(train_mode=True)[brain_name] \n",
    "    \n",
    "    rewards = np.zeros((steps, len(env_info.rewards)))\n",
    "                       \n",
    "    for step in range(steps):\n",
    "              \n",
    "        states = env_info.vector_observations\n",
    "        states_v = ptan.agent.float32_preprocessor(states).to(device)\n",
    "        actions_v = net(states_v)\n",
    "        actions = actions_v.squeeze(dim=0).data.cpu().numpy()\n",
    "        actions = np.clip(actions, -1, 1)\n",
    "        env_info= env.step(actions)[brain_name]\n",
    "        rewards[step,:] += np.array(env_info.rewards)        \n",
    "        \n",
    "    return rewards.sum(axis=0).mean()"
   ]
  },
  {
   "cell_type": "code",
   "execution_count": 15,
   "metadata": {},
   "outputs": [],
   "source": [
    "#Instantiate the Agent\n",
    "agent = AgentDDPG(actor_net, device=config.device,ou_teta=config.NOISE_THETA,ou_sigma=config.NOISE_SIGMA)"
   ]
  },
  {
   "cell_type": "code",
   "execution_count": 25,
   "metadata": {},
   "outputs": [],
   "source": [
    "# PTAN based utilities to setup the Replay Buffer\n",
    "\n",
    "exp_source = UnityExperienceSourceFirstLast(env, agent, gamma=config.GAMMA, steps_count=1)\n",
    "buffer = ptan.experience.ExperienceReplayBuffer(exp_source, buffer_size=config.BUFFER_SIZE)"
   ]
  },
  {
   "cell_type": "markdown",
   "metadata": {},
   "source": [
    "### Training Loop"
   ]
  },
  {
   "cell_type": "code",
   "execution_count": 17,
   "metadata": {
    "scrolled": false
   },
   "outputs": [
    {
     "name": "stdout",
     "output_type": "stream",
     "text": [
      "Episode: 10 reward_100: 0.7169499839749187\n",
      "Episode: 20 reward_100: 0.6717999849840999\n",
      "Episode: 30 reward_100: 0.6599166519163798\n",
      "Episode: 40 reward_100: 0.6634249851712957\n",
      "Episode: 50 reward_100: 0.672089984977618\n",
      "Episode: 60 reward_100: 0.7283499837201087\n",
      "Episode: 70 reward_100: 0.8167785531721478\n",
      "Episode: 80 reward_100: 0.8976812299352606\n",
      "Episode: 90 reward_100: 0.9627333118145665\n",
      "Episode: 100 reward_100: 1.060129976304248\n",
      "Episode: 110 reward_100: 1.1833999735489487\n",
      "Episode: 120 reward_100: 1.3252799703776836\n",
      "Episode: 130 reward_100: 1.4652799672484398\n",
      "Episode: 140 reward_100: 1.6560649629840625\n",
      "Episode: 150 reward_100: 1.9095399573184548\n",
      "Episode: 160 reward_100: 2.14233995211497\n",
      "Episode: 170 reward_100: 2.433184945614077\n",
      "Episode: 180 reward_100: 2.763284938235768\n",
      "Episode: 190 reward_100: 3.320804925774224\n",
      "Episode: 200 reward_100: 4.060154909248463\n",
      "Episode: 210 reward_100: 5.064969886789099\n",
      "Episode: 220 reward_100: 6.2929098593425\n",
      "Episode: 230 reward_100: 7.606299829985947\n",
      "Episode: 240 reward_100: 8.974639799401164\n",
      "Episode: 250 reward_100: 10.273374770372175\n",
      "Episode: 260 reward_100: 11.669059739176184\n",
      "Episode: 270 reward_100: 13.134089706430213\n",
      "Episode: 280 reward_100: 14.732639670699834\n",
      "Episode: 290 reward_100: 16.123904639602635\n",
      "Episode: 300 reward_100: 17.459604609747416\n",
      "Episode: 310 reward_100: 18.649009583162144\n",
      "Episode: 320 reward_100: 19.60781956173107\n",
      "Episode: 330 reward_100: 20.541299540866166\n",
      "Episode: 340 reward_100: 21.464744520225562\n",
      "Episode: 350 reward_100: 22.44544949830509\n",
      "Episode: 360 reward_100: 23.370884477620017\n",
      "Episode: 370 reward_100: 24.21177945882455\n",
      "Episode: 380 reward_100: 25.022049440713598\n",
      "Episode: 390 reward_100: 26.17878441485856\n",
      "Episode: 400 reward_100: 27.38335938793421\n",
      "Episode: 410 reward_100: 28.597739360790698\n",
      "Episode: 420 reward_100: 30.103224327140488\n",
      "Solved. Episode 420, mean reward 30.103224327140488\n"
     ]
    }
   ],
   "source": [
    "rewards_history = []\n",
    "stop_score = 30\n",
    "\n",
    "max_episodes = 10000\n",
    "\n",
    "INITIAL_BUFFER_SIZE = 2000\n",
    "MAX_STEPS = 1000\n",
    "\n",
    "with ptan.common.utils.TBMeanTracker(writer, batch_size=1) as tb_tracker:\n",
    "        \n",
    "    #Prime the Replay Buffer    \n",
    "    buffer.populate(INITIAL_BUFFER_SIZE)\n",
    "    \n",
    "    for episode in range(1,max_episodes+1):\n",
    "        \n",
    "        for step in range(MAX_STEPS):\n",
    "            \n",
    "            buffer.populate(20)\n",
    "        \n",
    "            batch = buffer.sample(config.BATCH_SIZE)\n",
    "            states_v, actions_v, rewards_v, dones_mask, last_states_v = unpack_batch(batch, config.device)\n",
    "            \n",
    "            #Critic Training\n",
    "            crt_opt.zero_grad()\n",
    "            q_v = critic_net(states_v, actions_v)\n",
    "            last_act_v = actor_target.target_model(last_states_v)\n",
    "            q_last_v = critic_target.target_model(last_states_v, last_act_v)\n",
    "            q_last_v[dones_mask] = 0.0\n",
    "            q_ref_v = rewards_v.unsqueeze(dim=-1) + q_last_v * config.GAMMA\n",
    "            critic_loss_v = F.mse_loss(q_v, q_ref_v.detach())\n",
    "            critic_loss_v.backward()\n",
    "            crt_opt.step()\n",
    "\n",
    "\n",
    "            #Actor Training            \n",
    "            act_opt.zero_grad()\n",
    "            cur_actions_v = actor_net(states_v)\n",
    "            actor_loss_v = -critic_net(states_v, cur_actions_v)\n",
    "            actor_loss_v = actor_loss_v.mean()\n",
    "            actor_loss_v.backward()\n",
    "            act_opt.step()            \n",
    "\n",
    "            actor_target.alpha_sync(alpha=1 - config.TAU)\n",
    "            critic_target.alpha_sync(alpha=1 - config.TAU)\n",
    "        \n",
    "        #Update Tensorboard\n",
    "        tb_tracker.track(\"loss_critic\", critic_loss_v, episode)\n",
    "        tb_tracker.track(\"critic_ref\", q_ref_v.mean(), episode)\n",
    "        tb_tracker.track(\"loss_actor\", actor_loss_v, episode)\n",
    "        \n",
    "        reward = test_net(actor_net,env,MAX_STEPS)\n",
    "        tb_tracker.track(\"reward\", reward, episode)               \n",
    "        rewards_history.append(reward)\n",
    "        \n",
    "        \n",
    "        print(f'Episode: {episode} reward: {reward}',end='\\r')\n",
    "        \n",
    "        reward_100 = np.mean(rewards_history[-100:])\n",
    "        \n",
    "        tb_tracker.track(\"reward_100\", reward_100, episode)\n",
    "        \n",
    "        if episode % 10 == 0:\n",
    "            print(f'Episode: {episode} reward_100: {reward_100}')\n",
    "        \n",
    "        \n",
    "        if len(rewards_history) > 100 and reward_100 > stop_score:\n",
    "            print(f'Solved. Episode {episode}, mean reward {reward_100}')\n",
    "            break\n",
    "    \n",
    "    #When Done save the training state\n",
    "    learning_state = {\n",
    "        'actor': actor_net.state_dict(),\n",
    "        'critic': critic_net.state_dict(),\n",
    "        'act_opt': act_opt.state_dict(),\n",
    "        'crt_opt': crt_opt.state_dict(),\n",
    "        'episode': episode,\n",
    "        'rewards_history': rewards_history\n",
    "    }\n",
    "    \n",
    "    torch.save(learning_state,'./solved_state.ckp')\n",
    "    \n",
    "    writer.close()\n",
    "    env.close()\n",
    "    "
   ]
  },
  {
   "cell_type": "markdown",
   "metadata": {},
   "source": [
    "### Results"
   ]
  },
  {
   "cell_type": "code",
   "execution_count": 29,
   "metadata": {},
   "outputs": [
    {
     "data": {
      "image/png": "[encoded data removed]",
      "text/plain": [
       "<Figure size 864x576 with 1 Axes>"
      ]
     },
     "metadata": {
      "needs_background": "light"
     },
     "output_type": "display_data"
    }
   ],
   "source": [
    "#Plot Rewards History\n",
    "fix,ax = plt.subplots(figsize=(12,8))\n",
    "_ = plt.plot(rewards_history)\n",
    "_ = plt.title(\"Rewards During Training\")\n",
    "_ = plt.xlabel('Episodes')\n",
    "_ = plt.ylabel('Rewards')\n",
    "plt.tight_layout()\n",
    "plt.show()"
   ]
  },
  {
   "cell_type": "code",
   "execution_count": 30,
   "metadata": {},
   "outputs": [],
   "source": [
    "#Save Rewards History\n",
    "np.save('./rewards_history',rewards_history)"
   ]
  }
 ],
 "metadata": {
  "kernelspec": {
   "display_name": "drlnd",
   "language": "python",
   "name": "drlnd"
  },
  "language_info": {
   "codemirror_mode": {
    "name": "ipython",
    "version": 3
   },
   "file_extension": ".py",
   "mimetype": "text/x-python",
   "name": "python",
   "nbconvert_exporter": "python",
   "pygments_lexer": "ipython3",
   "version": "3.6.10"
  }
 },
 "nbformat": 4,
 "nbformat_minor": 4
}
