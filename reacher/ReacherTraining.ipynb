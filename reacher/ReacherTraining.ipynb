{
 "cells": [
  {
   "cell_type": "code",
   "execution_count": 1,
   "metadata": {},
   "outputs": [
    {
     "data": {
      "text/html": [
       "<style>.container { width:100% !important; }</style>"
      ],
      "text/plain": [
       "<IPython.core.display.HTML object>"
      ]
     },
     "metadata": {},
     "output_type": "display_data"
    }
   ],
   "source": [
    "%matplotlib inline\n",
    "\n",
    "from unityagents import UnityEnvironment\n",
    "import numpy as np\n",
    "import random\n",
    "import sys\n",
    "from collections import deque\n",
    "\n",
    "\n",
    "import torch\n",
    "import torch.optim as optim\n",
    "import torch.nn.functional as F\n",
    "\n",
    "\n",
    "import matplotlib.pyplot as plt\n",
    "\n",
    "from IPython.core.display import display, HTML\n",
    "display(HTML(\"<style>.container { width:100% !important; }</style>\"))"
   ]
  },
  {
   "cell_type": "code",
   "execution_count": 2,
   "metadata": {},
   "outputs": [],
   "source": [
    "sys.path.append('./')"
   ]
  },
  {
   "cell_type": "code",
   "execution_count": 3,
   "metadata": {},
   "outputs": [],
   "source": [
    "from ddpg_model import *"
   ]
  },
  {
   "cell_type": "code",
   "execution_count": 4,
   "metadata": {},
   "outputs": [
    {
     "name": "stderr",
     "output_type": "stream",
     "text": [
      "INFO:unityagents:\n",
      "'Academy' started successfully!\n",
      "Unity Academy name: Academy\n",
      "        Number of Brains: 1\n",
      "        Number of External Brains : 1\n",
      "        Lesson number : 0\n",
      "        Reset Parameters :\n",
      "\t\tgoal_size -> 5.0\n",
      "\t\tgoal_speed -> 1.0\n",
      "Unity brain name: ReacherBrain\n",
      "        Number of Visual Observations (per agent): 0\n",
      "        Vector Observation space type: continuous\n",
      "        Vector Observation space size (per agent): 33\n",
      "        Number of stacked Vector Observation: 1\n",
      "        Vector Action space type: continuous\n",
      "        Vector Action space size (per agent): 4\n",
      "        Vector Action descriptions: , , , \n"
     ]
    }
   ],
   "source": [
    "env = UnityEnvironment(file_name='Reacher-2.app',no_graphics=True)"
   ]
  },
  {
   "cell_type": "code",
   "execution_count": 5,
   "metadata": {},
   "outputs": [],
   "source": [
    "brain_name = env.brain_names[0]\n",
    "brain = env.brains[brain_name]\n",
    "state_size = brain.vector_observation_space_size\n",
    "action_size = brain.vector_action_space_size\n",
    "num_agents = 20\n",
    "env_info = env.reset(train_mode=True)[brain_name]"
   ]
  },
  {
   "cell_type": "code",
   "execution_count": 6,
   "metadata": {},
   "outputs": [],
   "source": [
    "seed = 1234\n",
    "n_epochs = 5000\n",
    "avg_score_target = 10\n",
    "avg_score_runs = 100\n",
    "print_every = 10\n"
   ]
  },
  {
   "cell_type": "code",
   "execution_count": 7,
   "metadata": {},
   "outputs": [],
   "source": [
    "config = Config()"
   ]
  },
  {
   "cell_type": "code",
   "execution_count": 8,
   "metadata": {},
   "outputs": [],
   "source": [
    "agent = DDPGAgent(state_size,action_size,seed,config)"
   ]
  },
  {
   "cell_type": "code",
   "execution_count": null,
   "metadata": {
    "scrolled": false
   },
   "outputs": [
    {
     "name": "stdout",
     "output_type": "stream",
     "text": [
      "Epoch: 10 \tavg_score_10: 0.0\tavg_score_50: 0.011599999740719796\tavg_score_100: 0.005799999870359898\n",
      "Epoch: 20 \tavg_score_10: 0.4959999889135361\tavg_score_50: 0.3745999916270375\tavg_score_100: 0.32509999273344875\n",
      "Epoch: 30 \tavg_score_10: 0.35999999195337296\tavg_score_50: 0.274999993853271\tavg_score_100: 0.31539999295026067\n",
      "Epoch: 40 \tavg_score_10: 0.19299999568611384\tavg_score_50: 0.28379999365657566\tavg_score_100: 0.26549999406561253\n",
      "Epoch: 50 \tavg_score_10: 0.2559999942779541\tavg_score_50: 0.24639999449253083\tavg_score_100: 0.281899993699044\n",
      "Epoch: 60 \tavg_score_10: 0.07699999827891588\tavg_score_50: 0.17799999602138997\tavg_score_100: 0.23759999468922616\n",
      "Epoch: 70 \tavg_score_10: 0.1839999958872795\tavg_score_50: 0.23839999467134476\tavg_score_100: 0.2397999946400523\n",
      "Epoch: 80 \tavg_score_10: 0.15499999653548002\tavg_score_50: 0.24259999457746745\tavg_score_100: 0.21939999509602784\n",
      "Epoch: 90 \tavg_score_10: 0.27799999378621576\tavg_score_50: 0.2825999936833978\tavg_score_100: 0.29309999344870447\n"
     ]
    }
   ],
   "source": [
    "scores_deque_10 = deque(maxlen=10)\n",
    "scores_deque_50 = deque(maxlen=50)\n",
    "scores_deque_100 = deque(maxlen=100)\n",
    "scores = []\n",
    "\n",
    "for epoch in range(1, n_epochs+1):\n",
    "    \n",
    "    states = env_info.vector_observations\n",
    "    agent.reset()\n",
    "    \n",
    "    total_scores = np.zeros(num_agents)\n",
    "    \n",
    "    for t in range(config.MAX_STEPS):\n",
    "        actions = agent.act(states)\n",
    "        env_info = env.step(actions)[brain_name]\n",
    "        next_states = env_info.vector_observations\n",
    "        rewards = env_info.rewards\n",
    "        dones = env_info.local_done\n",
    "               \n",
    "        total_scores += rewards\n",
    "        \n",
    "        _ = [agent.add_to_memory(states[i],actions[i],rewards[i],next_states[i],dones[i]) for i in range(num_agents)]        \n",
    "        \n",
    "        if t % config.TRAIN_STEPS == 0:\n",
    "            for _ in range(config.TRAIN_TIMES):\n",
    "                agent.learning_step()\n",
    "        \n",
    "        states = next_states\n",
    "    \n",
    "    \n",
    "    \n",
    "    scores_deque_10.extend(total_scores)\n",
    "    scores_deque_50.extend(total_scores)\n",
    "    scores_deque_100.extend(total_scores)\n",
    "    scores.extend(total_scores)\n",
    "        \n",
    "    if epoch % print_every == 0:\n",
    "        \n",
    "        avg_scores_10 = np.asanyarray(scores_deque_10).mean()\n",
    "        avg_scores_50 = np.asanyarray(scores_deque_50).mean()\n",
    "        avg_scores_100 = np.asanyarray(scores_deque_100).mean()\n",
    "        \n",
    "        print(f\"Epoch: {epoch} \\tavg_score_10: {avg_scores_10}\\tavg_score_50: {avg_scores_50}\\tavg_score_100: {avg_scores_100}\")\n",
    "        if avg_scores_100 > avg_score_runs:\n",
    "            print(\"Enviroment Solved!\")\n",
    "            break\n",
    "\n",
    "env.close()"
   ]
  },
  {
   "cell_type": "code",
   "execution_count": 214,
   "metadata": {},
   "outputs": [],
   "source": [
    "log_data = open('./reacher.log').readlines()"
   ]
  },
  {
   "cell_type": "code",
   "execution_count": 215,
   "metadata": {},
   "outputs": [
    {
     "data": {
      "text/plain": [
       "1281"
      ]
     },
     "execution_count": 215,
     "metadata": {},
     "output_type": "execute_result"
    }
   ],
   "source": [
    "len(log_data)"
   ]
  },
  {
   "cell_type": "code",
   "execution_count": 216,
   "metadata": {},
   "outputs": [],
   "source": [
    "max_score_line = [s for s in log_data if \"max_score: \" in s]"
   ]
  },
  {
   "cell_type": "code",
   "execution_count": 217,
   "metadata": {},
   "outputs": [],
   "source": [
    "max_scores = [float(s.strip().split()[-1]) for s in max_score_line]"
   ]
  },
  {
   "cell_type": "code",
   "execution_count": 219,
   "metadata": {},
   "outputs": [
    {
     "data": {
      "text/plain": [
       "33"
      ]
     },
     "execution_count": 219,
     "metadata": {},
     "output_type": "execute_result"
    }
   ],
   "source": [
    "len(max_scores)"
   ]
  },
  {
   "cell_type": "code",
   "execution_count": 220,
   "metadata": {},
   "outputs": [
    {
     "data": {
      "text/plain": [
       "0.6968999844230711"
      ]
     },
     "execution_count": 220,
     "metadata": {},
     "output_type": "execute_result"
    }
   ],
   "source": [
    "max(max_scores)"
   ]
  },
  {
   "cell_type": "markdown",
   "metadata": {},
   "source": [
    "##### "
   ]
  }
 ],
 "metadata": {
  "kernelspec": {
   "display_name": "drlnd",
   "language": "python",
   "name": "drlnd"
  },
  "language_info": {
   "codemirror_mode": {
    "name": "ipython",
    "version": 3
   },
   "file_extension": ".py",
   "mimetype": "text/x-python",
   "name": "python",
   "nbconvert_exporter": "python",
   "pygments_lexer": "ipython3",
   "version": "3.6.10"
  }
 },
 "nbformat": 4,
 "nbformat_minor": 4
}
